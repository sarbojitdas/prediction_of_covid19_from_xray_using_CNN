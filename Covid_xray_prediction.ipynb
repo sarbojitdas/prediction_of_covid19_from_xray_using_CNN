{
 "cells": [
  {
   "cell_type": "code",
   "execution_count": 1,
   "metadata": {},
   "outputs": [],
   "source": [
    "import numpy as np\n",
    "import matplotlib.pyplot as plt\n",
    "import cv2\n",
    "import os\n",
    "import random\n",
    "import pickle"
   ]
  },
  {
   "cell_type": "code",
   "execution_count": 2,
   "metadata": {},
   "outputs": [],
   "source": [
    "directory=r'dataset'\n",
    "catagories=['covid-19','normal']"
   ]
  },
  {
   "cell_type": "code",
   "execution_count": 3,
   "metadata": {},
   "outputs": [],
   "source": [
    "img_size=100\n",
    "data=[]\n",
    "for catagory in catagories:\n",
    "    folder=os.path.join(directory,catagory)\n",
    "    label=catagories.index(catagory)\n",
    "    for img in os.listdir(folder):\n",
    "        img_path=os.path.join(folder,img)\n",
    "        img_arr=cv2.imread(img_path)\n",
    "        img_arr=cv2.resize(img_arr,(img_size,img_size))\n",
    "        data.append([img_arr,label])\n",
    "            "
   ]
  },
  {
   "cell_type": "code",
   "execution_count": 4,
   "metadata": {},
   "outputs": [
    {
     "data": {
      "text/plain": [
       "200"
      ]
     },
     "execution_count": 4,
     "metadata": {},
     "output_type": "execute_result"
    }
   ],
   "source": [
    "len(data)"
   ]
  },
  {
   "cell_type": "code",
   "execution_count": 5,
   "metadata": {},
   "outputs": [],
   "source": [
    "x=[]\n",
    "y=[]\n",
    "for features, labels in data:\n",
    "    x.append(features)\n",
    "    y.append(labels)"
   ]
  },
  {
   "cell_type": "code",
   "execution_count": 6,
   "metadata": {},
   "outputs": [],
   "source": [
    "x=np.array(x)\n",
    "y=np.array(y)"
   ]
  },
  {
   "cell_type": "code",
   "execution_count": 7,
   "metadata": {},
   "outputs": [
    {
     "data": {
      "text/plain": [
       "(200, 100, 100, 3)"
      ]
     },
     "execution_count": 7,
     "metadata": {},
     "output_type": "execute_result"
    }
   ],
   "source": [
    "x.shape"
   ]
  },
  {
   "cell_type": "code",
   "execution_count": 8,
   "metadata": {},
   "outputs": [
    {
     "data": {
      "text/plain": [
       "(200,)"
      ]
     },
     "execution_count": 8,
     "metadata": {},
     "output_type": "execute_result"
    }
   ],
   "source": [
    "y.shape"
   ]
  },
  {
   "cell_type": "code",
   "execution_count": 9,
   "metadata": {},
   "outputs": [],
   "source": [
    "from sklearn.model_selection import train_test_split\n",
    "\n",
    "x_train,x_test,y_train,y_test=train_test_split(x,y,test_size=.2,random_state=0,stratify = y)"
   ]
  },
  {
   "cell_type": "code",
   "execution_count": 10,
   "metadata": {},
   "outputs": [
    {
     "data": {
      "text/plain": [
       "(160, 100, 100, 3)"
      ]
     },
     "execution_count": 10,
     "metadata": {},
     "output_type": "execute_result"
    }
   ],
   "source": [
    "x_train.shape"
   ]
  },
  {
   "cell_type": "code",
   "execution_count": 11,
   "metadata": {},
   "outputs": [
    {
     "data": {
      "text/plain": [
       "(40, 100, 100, 3)"
      ]
     },
     "execution_count": 11,
     "metadata": {},
     "output_type": "execute_result"
    }
   ],
   "source": [
    "x_test.shape"
   ]
  },
  {
   "cell_type": "code",
   "execution_count": 12,
   "metadata": {},
   "outputs": [
    {
     "data": {
      "text/plain": [
       "(160,)"
      ]
     },
     "execution_count": 12,
     "metadata": {},
     "output_type": "execute_result"
    }
   ],
   "source": [
    "y_train.shape"
   ]
  },
  {
   "cell_type": "code",
   "execution_count": 13,
   "metadata": {},
   "outputs": [
    {
     "data": {
      "text/plain": [
       "(40,)"
      ]
     },
     "execution_count": 13,
     "metadata": {},
     "output_type": "execute_result"
    }
   ],
   "source": [
    "y_test.shape"
   ]
  },
  {
   "cell_type": "code",
   "execution_count": 14,
   "metadata": {},
   "outputs": [
    {
     "data": {
      "text/plain": [
       "array([0, 0, 0, 0, 1])"
      ]
     },
     "execution_count": 14,
     "metadata": {},
     "output_type": "execute_result"
    }
   ],
   "source": [
    "y_train[:5]"
   ]
  },
  {
   "cell_type": "code",
   "execution_count": 15,
   "metadata": {},
   "outputs": [],
   "source": [
    "def plot_sample(x, y, index):\n",
    "    plt.figure(figsize = (15,2))\n",
    "    plt.imshow(x[index])\n",
    "    plt.xlabel(catagories[y[index]])"
   ]
  },
  {
   "cell_type": "code",
   "execution_count": 16,
   "metadata": {},
   "outputs": [
    {
     "data": {
      "image/png": "[encoded data removed]",
      "text/plain": [
       "<Figure size 1080x144 with 1 Axes>"
      ]
     },
     "metadata": {
      "needs_background": "light"
     },
     "output_type": "display_data"
    }
   ],
   "source": [
    "plot_sample(x_train, y_train, 6)"
   ]
  },
  {
   "cell_type": "code",
   "execution_count": 17,
   "metadata": {},
   "outputs": [],
   "source": [
    "x_train = x_train / 255.0\n",
    "x_test = x_test / 255.0"
   ]
  },
  {
   "cell_type": "code",
   "execution_count": 18,
   "metadata": {},
   "outputs": [
    {
     "data": {
      "text/plain": [
       "array([[[[0.        , 0.        , 0.        ],\n",
       "         [0.        , 0.        , 0.        ],\n",
       "         [0.        , 0.        , 0.        ],\n",
       "         ...,\n",
       "         [0.        , 0.        , 0.        ],\n",
       "         [0.        , 0.        , 0.        ],\n",
       "         [0.        , 0.        , 0.        ]],\n",
       "\n",
       "        [[0.        , 0.        , 0.        ],\n",
       "         [0.        , 0.        , 0.        ],\n",
       "         [0.        , 0.        , 0.        ],\n",
       "         ...,\n",
       "         [0.        , 0.        , 0.        ],\n",
       "         [0.        , 0.        , 0.        ],\n",
       "         [0.        , 0.        , 0.        ]],\n",
       "\n",
       "        [[0.        , 0.        , 0.        ],\n",
       "         [0.        , 0.        , 0.        ],\n",
       "         [0.        , 0.        , 0.        ],\n",
       "         ...,\n",
       "         [0.        , 0.        , 0.        ],\n",
       "         [0.        , 0.        , 0.        ],\n",
       "         [0.        , 0.        , 0.        ]],\n",
       "\n",
       "        ...,\n",
       "\n",
       "        [[0.03921569, 0.03921569, 0.03921569],\n",
       "         [0.12156863, 0.12156863, 0.12156863],\n",
       "         [0.25098039, 0.25098039, 0.25098039],\n",
       "         ...,\n",
       "         [0.13333333, 0.13333333, 0.13333333],\n",
       "         [0.03529412, 0.03529412, 0.03529412],\n",
       "         [0.        , 0.        , 0.        ]],\n",
       "\n",
       "        [[0.03137255, 0.03137255, 0.03137255],\n",
       "         [0.10980392, 0.10980392, 0.10980392],\n",
       "         [0.22352941, 0.22352941, 0.22352941],\n",
       "         ...,\n",
       "         [0.11372549, 0.11372549, 0.11372549],\n",
       "         [0.02352941, 0.02352941, 0.02352941],\n",
       "         [0.        , 0.        , 0.        ]],\n",
       "\n",
       "        [[0.00784314, 0.00784314, 0.00784314],\n",
       "         [0.09019608, 0.09019608, 0.09019608],\n",
       "         [0.3372549 , 0.3372549 , 0.3372549 ],\n",
       "         ...,\n",
       "         [0.12156863, 0.12156863, 0.12156863],\n",
       "         [0.00784314, 0.00784314, 0.00784314],\n",
       "         [0.        , 0.        , 0.        ]]],\n",
       "\n",
       "\n",
       "       [[[0.2       , 0.2       , 0.2       ],\n",
       "         [0.19607843, 0.19607843, 0.19607843],\n",
       "         [0.19607843, 0.19607843, 0.19607843],\n",
       "         ...,\n",
       "         [0.18823529, 0.18823529, 0.18823529],\n",
       "         [0.19607843, 0.19607843, 0.19607843],\n",
       "         [0.19215686, 0.19215686, 0.19215686]],\n",
       "\n",
       "        [[0.2       , 0.2       , 0.2       ],\n",
       "         [0.18823529, 0.18823529, 0.18823529],\n",
       "         [0.19215686, 0.19215686, 0.19215686],\n",
       "         ...,\n",
       "         [0.18431373, 0.18431373, 0.18431373],\n",
       "         [0.18823529, 0.18823529, 0.18823529],\n",
       "         [0.19215686, 0.19215686, 0.19215686]],\n",
       "\n",
       "        [[0.19607843, 0.19607843, 0.19607843],\n",
       "         [0.19607843, 0.19607843, 0.19607843],\n",
       "         [0.19215686, 0.19215686, 0.19215686],\n",
       "         ...,\n",
       "         [0.18431373, 0.18431373, 0.18431373],\n",
       "         [0.18823529, 0.18823529, 0.18823529],\n",
       "         [0.18823529, 0.18823529, 0.18823529]],\n",
       "\n",
       "        ...,\n",
       "\n",
       "        [[0.68235294, 0.68235294, 0.68235294],\n",
       "         [0.68627451, 0.68627451, 0.68627451],\n",
       "         [0.69411765, 0.69411765, 0.69411765],\n",
       "         ...,\n",
       "         [0.60784314, 0.60784314, 0.60784314],\n",
       "         [0.59215686, 0.59215686, 0.59215686],\n",
       "         [0.59215686, 0.59215686, 0.59215686]],\n",
       "\n",
       "        [[0.69019608, 0.69019608, 0.69019608],\n",
       "         [0.68627451, 0.68627451, 0.68627451],\n",
       "         [0.68627451, 0.68627451, 0.68627451],\n",
       "         ...,\n",
       "         [0.61960784, 0.61960784, 0.61960784],\n",
       "         [0.59607843, 0.59607843, 0.59607843],\n",
       "         [0.58823529, 0.58823529, 0.58823529]],\n",
       "\n",
       "        [[0.6745098 , 0.6745098 , 0.6745098 ],\n",
       "         [0.69019608, 0.69019608, 0.69019608],\n",
       "         [0.68627451, 0.68627451, 0.68627451],\n",
       "         ...,\n",
       "         [0.61568627, 0.61568627, 0.61568627],\n",
       "         [0.60784314, 0.60784314, 0.60784314],\n",
       "         [0.58431373, 0.58431373, 0.58431373]]],\n",
       "\n",
       "\n",
       "       [[[0.01568627, 0.        , 0.        ],\n",
       "         [0.01568627, 0.        , 0.        ],\n",
       "         [0.01568627, 0.        , 0.        ],\n",
       "         ...,\n",
       "         [0.01568627, 0.        , 0.        ],\n",
       "         [0.        , 0.        , 0.        ],\n",
       "         [0.        , 0.        , 0.        ]],\n",
       "\n",
       "        [[0.01568627, 0.        , 0.        ],\n",
       "         [0.01568627, 0.        , 0.        ],\n",
       "         [0.01568627, 0.        , 0.        ],\n",
       "         ...,\n",
       "         [0.01568627, 0.        , 0.        ],\n",
       "         [0.        , 0.        , 0.        ],\n",
       "         [0.        , 0.        , 0.        ]],\n",
       "\n",
       "        [[0.01568627, 0.        , 0.        ],\n",
       "         [0.01568627, 0.        , 0.        ],\n",
       "         [0.01568627, 0.        , 0.        ],\n",
       "         ...,\n",
       "         [0.01568627, 0.        , 0.        ],\n",
       "         [0.        , 0.        , 0.        ],\n",
       "         [0.        , 0.        , 0.        ]],\n",
       "\n",
       "        ...,\n",
       "\n",
       "        [[0.50588235, 0.49411765, 0.47843137],\n",
       "         [0.62745098, 0.61568627, 0.6       ],\n",
       "         [0.71764706, 0.70196078, 0.68627451],\n",
       "         ...,\n",
       "         [0.02745098, 0.00784314, 0.01176471],\n",
       "         [0.        , 0.        , 0.        ],\n",
       "         [0.        , 0.        , 0.        ]],\n",
       "\n",
       "        [[0.25098039, 0.23921569, 0.22352941],\n",
       "         [0.57254902, 0.56078431, 0.54901961],\n",
       "         [0.68235294, 0.6745098 , 0.65490196],\n",
       "         ...,\n",
       "         [0.01960784, 0.        , 0.00392157],\n",
       "         [0.        , 0.        , 0.        ],\n",
       "         [0.        , 0.        , 0.        ]],\n",
       "\n",
       "        [[0.23137255, 0.21960784, 0.20392157],\n",
       "         [0.40784314, 0.39607843, 0.38039216],\n",
       "         [0.53333333, 0.52156863, 0.50588235],\n",
       "         ...,\n",
       "         [0.01568627, 0.        , 0.        ],\n",
       "         [0.        , 0.        , 0.        ],\n",
       "         [0.        , 0.        , 0.        ]]],\n",
       "\n",
       "\n",
       "       ...,\n",
       "\n",
       "\n",
       "       [[[0.00392157, 0.00392157, 0.00392157],\n",
       "         [0.        , 0.        , 0.        ],\n",
       "         [0.00392157, 0.00392157, 0.00392157],\n",
       "         ...,\n",
       "         [0.03921569, 0.03921569, 0.03921569],\n",
       "         [0.04705882, 0.04705882, 0.04705882],\n",
       "         [0.10196078, 0.05098039, 0.        ]],\n",
       "\n",
       "        [[0.00392157, 0.00392157, 0.00392157],\n",
       "         [0.        , 0.        , 0.        ],\n",
       "         [0.00392157, 0.00392157, 0.00392157],\n",
       "         ...,\n",
       "         [0.04705882, 0.04705882, 0.04705882],\n",
       "         [0.05490196, 0.05490196, 0.05490196],\n",
       "         [0.11764706, 0.05098039, 0.00784314]],\n",
       "\n",
       "        [[0.00392157, 0.00392157, 0.00392157],\n",
       "         [0.        , 0.        , 0.        ],\n",
       "         [0.        , 0.        , 0.        ],\n",
       "         ...,\n",
       "         [0.07058824, 0.07058824, 0.07058824],\n",
       "         [0.05098039, 0.05098039, 0.05098039],\n",
       "         [0.11764706, 0.05882353, 0.05490196]],\n",
       "\n",
       "        ...,\n",
       "\n",
       "        [[0.37254902, 0.39215686, 0.38823529],\n",
       "         [0.43529412, 0.43529412, 0.43529412],\n",
       "         [0.45098039, 0.45098039, 0.45098039],\n",
       "         ...,\n",
       "         [0.27058824, 0.27058824, 0.27058824],\n",
       "         [0.23529412, 0.23529412, 0.23529412],\n",
       "         [0.17647059, 0.12156863, 0.11372549]],\n",
       "\n",
       "        [[0.38039216, 0.4       , 0.39607843],\n",
       "         [0.43921569, 0.43921569, 0.43921569],\n",
       "         [0.43529412, 0.43529412, 0.43529412],\n",
       "         ...,\n",
       "         [0.27058824, 0.27058824, 0.27058824],\n",
       "         [0.2627451 , 0.2627451 , 0.2627451 ],\n",
       "         [0.17647059, 0.12156863, 0.11372549]],\n",
       "\n",
       "        [[0.40784314, 0.42745098, 0.42352941],\n",
       "         [0.43921569, 0.43921569, 0.43921569],\n",
       "         [0.46666667, 0.46666667, 0.46666667],\n",
       "         ...,\n",
       "         [0.26666667, 0.26666667, 0.26666667],\n",
       "         [0.25490196, 0.25490196, 0.25490196],\n",
       "         [0.17647059, 0.11764706, 0.10980392]]],\n",
       "\n",
       "\n",
       "       [[[0.03137255, 0.00784314, 0.01176471],\n",
       "         [0.02352941, 0.00784314, 0.00784314],\n",
       "         [0.03529412, 0.01568627, 0.01960784],\n",
       "         ...,\n",
       "         [0.01568627, 0.        , 0.        ],\n",
       "         [0.01568627, 0.        , 0.        ],\n",
       "         [0.01568627, 0.        , 0.        ]],\n",
       "\n",
       "        [[0.25490196, 0.23529412, 0.23921569],\n",
       "         [0.18823529, 0.16862745, 0.17254902],\n",
       "         [0.13333333, 0.11372549, 0.11764706],\n",
       "         ...,\n",
       "         [0.01568627, 0.        , 0.        ],\n",
       "         [0.01568627, 0.        , 0.        ],\n",
       "         [0.01568627, 0.        , 0.        ]],\n",
       "\n",
       "        [[0.12156863, 0.10196078, 0.10588235],\n",
       "         [0.21176471, 0.19215686, 0.19607843],\n",
       "         [0.16078431, 0.14509804, 0.14901961],\n",
       "         ...,\n",
       "         [0.01568627, 0.        , 0.        ],\n",
       "         [0.01568627, 0.        , 0.        ],\n",
       "         [0.01568627, 0.        , 0.        ]],\n",
       "\n",
       "        ...,\n",
       "\n",
       "        [[0.79607843, 0.78431373, 0.76862745],\n",
       "         [0.85098039, 0.83921569, 0.81960784],\n",
       "         [0.8745098 , 0.8627451 , 0.84705882],\n",
       "         ...,\n",
       "         [1.        , 1.        , 1.        ],\n",
       "         [1.        , 1.        , 1.        ],\n",
       "         [0.99215686, 0.99215686, 0.99215686]],\n",
       "\n",
       "        [[0.74509804, 0.73333333, 0.71764706],\n",
       "         [0.78823529, 0.77647059, 0.76078431],\n",
       "         [0.84705882, 0.83529412, 0.81960784],\n",
       "         ...,\n",
       "         [1.        , 1.        , 1.        ],\n",
       "         [1.        , 1.        , 1.        ],\n",
       "         [0.99215686, 0.99215686, 0.99215686]],\n",
       "\n",
       "        [[0.66666667, 0.65490196, 0.63921569],\n",
       "         [0.74901961, 0.74117647, 0.72156863],\n",
       "         [0.81176471, 0.8       , 0.78431373],\n",
       "         ...,\n",
       "         [1.        , 1.        , 1.        ],\n",
       "         [0.99607843, 0.99607843, 0.99607843],\n",
       "         [0.98823529, 0.98823529, 0.98823529]]],\n",
       "\n",
       "\n",
       "       [[[0.01568627, 0.01568627, 0.01568627],\n",
       "         [0.00784314, 0.00784314, 0.00784314],\n",
       "         [0.01960784, 0.01960784, 0.01960784],\n",
       "         ...,\n",
       "         [0.02352941, 0.02352941, 0.02352941],\n",
       "         [0.02352941, 0.02352941, 0.02352941],\n",
       "         [0.01960784, 0.01960784, 0.01960784]],\n",
       "\n",
       "        [[0.01568627, 0.01568627, 0.01568627],\n",
       "         [0.01568627, 0.01568627, 0.01568627],\n",
       "         [0.01568627, 0.01568627, 0.01568627],\n",
       "         ...,\n",
       "         [0.01960784, 0.01960784, 0.01960784],\n",
       "         [0.02352941, 0.02352941, 0.02352941],\n",
       "         [0.02352941, 0.02352941, 0.02352941]],\n",
       "\n",
       "        [[0.01568627, 0.01568627, 0.01568627],\n",
       "         [0.02352941, 0.02352941, 0.02352941],\n",
       "         [0.02352941, 0.02352941, 0.02352941],\n",
       "         ...,\n",
       "         [0.02352941, 0.02352941, 0.02352941],\n",
       "         [0.01960784, 0.01960784, 0.01960784],\n",
       "         [0.01960784, 0.01960784, 0.01960784]],\n",
       "\n",
       "        ...,\n",
       "\n",
       "        [[0.00784314, 0.00784314, 0.00784314],\n",
       "         [0.00784314, 0.00784314, 0.00784314],\n",
       "         [0.01176471, 0.01176471, 0.01176471],\n",
       "         ...,\n",
       "         [0.01568627, 0.01568627, 0.01568627],\n",
       "         [0.01960784, 0.01960784, 0.01960784],\n",
       "         [0.01960784, 0.01960784, 0.01960784]],\n",
       "\n",
       "        [[0.00784314, 0.00784314, 0.00784314],\n",
       "         [0.01176471, 0.01176471, 0.01176471],\n",
       "         [0.00784314, 0.00784314, 0.00784314],\n",
       "         ...,\n",
       "         [0.01568627, 0.01568627, 0.01568627],\n",
       "         [0.01960784, 0.01960784, 0.01960784],\n",
       "         [0.01960784, 0.01960784, 0.01960784]],\n",
       "\n",
       "        [[0.00392157, 0.00392157, 0.00392157],\n",
       "         [0.00784314, 0.00784314, 0.00784314],\n",
       "         [0.00784314, 0.00784314, 0.00784314],\n",
       "         ...,\n",
       "         [0.01568627, 0.01568627, 0.01568627],\n",
       "         [0.01960784, 0.01960784, 0.01960784],\n",
       "         [0.01960784, 0.01960784, 0.01960784]]]])"
      ]
     },
     "execution_count": 18,
     "metadata": {},
     "output_type": "execute_result"
    }
   ],
   "source": [
    "x_train"
   ]
  },
  {
   "cell_type": "code",
   "execution_count": 19,
   "metadata": {},
   "outputs": [
    {
     "data": {
      "text/plain": [
       "array([[[[0.        , 0.        , 0.        ],\n",
       "         [0.        , 0.        , 0.        ],\n",
       "         [0.        , 0.        , 0.        ],\n",
       "         ...,\n",
       "         [0.        , 0.        , 0.        ],\n",
       "         [0.        , 0.        , 0.        ],\n",
       "         [0.00784314, 0.00784314, 0.00784314]],\n",
       "\n",
       "        [[0.        , 0.        , 0.        ],\n",
       "         [0.        , 0.        , 0.        ],\n",
       "         [0.        , 0.        , 0.        ],\n",
       "         ...,\n",
       "         [0.        , 0.        , 0.        ],\n",
       "         [0.        , 0.        , 0.        ],\n",
       "         [0.07843137, 0.07843137, 0.07843137]],\n",
       "\n",
       "        [[0.        , 0.        , 0.        ],\n",
       "         [0.        , 0.        , 0.        ],\n",
       "         [0.        , 0.        , 0.        ],\n",
       "         ...,\n",
       "         [0.        , 0.        , 0.        ],\n",
       "         [0.01176471, 0.01176471, 0.01176471],\n",
       "         [0.0627451 , 0.0627451 , 0.0627451 ]],\n",
       "\n",
       "        ...,\n",
       "\n",
       "        [[0.18431373, 0.18431373, 0.18431373],\n",
       "         [0.31764706, 0.31764706, 0.31764706],\n",
       "         [0.45882353, 0.45882353, 0.45882353],\n",
       "         ...,\n",
       "         [0.08235294, 0.08235294, 0.08235294],\n",
       "         [0.00392157, 0.00392157, 0.00392157],\n",
       "         [0.        , 0.        , 0.        ]],\n",
       "\n",
       "        [[0.20392157, 0.20392157, 0.20392157],\n",
       "         [0.35294118, 0.35294118, 0.35294118],\n",
       "         [0.48627451, 0.48627451, 0.48627451],\n",
       "         ...,\n",
       "         [0.07058824, 0.07058824, 0.07058824],\n",
       "         [0.00392157, 0.00392157, 0.00392157],\n",
       "         [0.00392157, 0.00392157, 0.00392157]],\n",
       "\n",
       "        [[0.25490196, 0.25490196, 0.25490196],\n",
       "         [0.38823529, 0.38823529, 0.38823529],\n",
       "         [0.52941176, 0.52941176, 0.52941176],\n",
       "         ...,\n",
       "         [0.01176471, 0.01176471, 0.01176471],\n",
       "         [0.00392157, 0.00392157, 0.00392157],\n",
       "         [0.08627451, 0.08627451, 0.08627451]]],\n",
       "\n",
       "\n",
       "       [[[0.94901961, 0.94901961, 0.94901961],\n",
       "         [0.71764706, 0.71764706, 0.71764706],\n",
       "         [0.50196078, 0.50196078, 0.50196078],\n",
       "         ...,\n",
       "         [0.65490196, 0.65490196, 0.65490196],\n",
       "         [0.64705882, 0.64705882, 0.64705882],\n",
       "         [0.62352941, 0.62352941, 0.62352941]],\n",
       "\n",
       "        [[0.76470588, 0.76470588, 0.76470588],\n",
       "         [0.99607843, 0.99607843, 0.99607843],\n",
       "         [0.52941176, 0.52941176, 0.52941176],\n",
       "         ...,\n",
       "         [0.65098039, 0.65098039, 0.65098039],\n",
       "         [0.64313725, 0.64313725, 0.64313725],\n",
       "         [0.65490196, 0.65490196, 0.65490196]],\n",
       "\n",
       "        [[0.72156863, 0.72156863, 0.72156863],\n",
       "         [0.71764706, 0.71764706, 0.71764706],\n",
       "         [0.98039216, 0.98039216, 0.98039216],\n",
       "         ...,\n",
       "         [0.63921569, 0.63921569, 0.63921569],\n",
       "         [0.65490196, 0.65490196, 0.65490196],\n",
       "         [0.76078431, 0.76078431, 0.76078431]],\n",
       "\n",
       "        ...,\n",
       "\n",
       "        [[0.        , 0.        , 0.        ],\n",
       "         [0.        , 0.        , 0.        ],\n",
       "         [0.        , 0.        , 0.        ],\n",
       "         ...,\n",
       "         [0.        , 0.        , 0.        ],\n",
       "         [0.        , 0.        , 0.        ],\n",
       "         [0.        , 0.        , 0.        ]],\n",
       "\n",
       "        [[0.        , 0.        , 0.        ],\n",
       "         [0.        , 0.        , 0.        ],\n",
       "         [0.        , 0.        , 0.        ],\n",
       "         ...,\n",
       "         [0.        , 0.        , 0.        ],\n",
       "         [0.        , 0.        , 0.        ],\n",
       "         [0.        , 0.        , 0.        ]],\n",
       "\n",
       "        [[0.        , 0.        , 0.        ],\n",
       "         [0.        , 0.        , 0.        ],\n",
       "         [0.        , 0.        , 0.        ],\n",
       "         ...,\n",
       "         [0.        , 0.        , 0.        ],\n",
       "         [0.        , 0.        , 0.        ],\n",
       "         [0.        , 0.        , 0.        ]]],\n",
       "\n",
       "\n",
       "       [[[0.00392157, 0.00392157, 0.00392157],\n",
       "         [0.00392157, 0.00392157, 0.00392157],\n",
       "         [0.00392157, 0.00392157, 0.00392157],\n",
       "         ...,\n",
       "         [0.00784314, 0.00784314, 0.00784314],\n",
       "         [0.00784314, 0.00784314, 0.00784314],\n",
       "         [0.00784314, 0.00784314, 0.00784314]],\n",
       "\n",
       "        [[0.00392157, 0.00392157, 0.00392157],\n",
       "         [0.00392157, 0.00392157, 0.00392157],\n",
       "         [0.00392157, 0.00392157, 0.00392157],\n",
       "         ...,\n",
       "         [0.00784314, 0.00784314, 0.00784314],\n",
       "         [0.00784314, 0.00784314, 0.00784314],\n",
       "         [0.00784314, 0.00784314, 0.00784314]],\n",
       "\n",
       "        [[0.00392157, 0.00392157, 0.00392157],\n",
       "         [0.00392157, 0.00392157, 0.00392157],\n",
       "         [0.00392157, 0.00392157, 0.00392157],\n",
       "         ...,\n",
       "         [0.00784314, 0.00784314, 0.00784314],\n",
       "         [0.00784314, 0.00784314, 0.00784314],\n",
       "         [0.00784314, 0.00784314, 0.00784314]],\n",
       "\n",
       "        ...,\n",
       "\n",
       "        [[0.20392157, 0.20784314, 0.10588235],\n",
       "         [0.20784314, 0.18431373, 0.15686275],\n",
       "         [0.28627451, 0.25490196, 0.16078431],\n",
       "         ...,\n",
       "         [0.04313725, 0.03921569, 0.03921569],\n",
       "         [0.00392157, 0.00784314, 0.        ],\n",
       "         [0.03529412, 0.01568627, 0.02745098]],\n",
       "\n",
       "        [[0.00784314, 0.00784314, 0.00784314],\n",
       "         [0.00784314, 0.00784314, 0.00784314],\n",
       "         [0.00784314, 0.00784314, 0.00784314],\n",
       "         ...,\n",
       "         [0.00784314, 0.00784314, 0.00784314],\n",
       "         [0.00392157, 0.00392157, 0.00392157],\n",
       "         [0.00784314, 0.00784314, 0.00784314]],\n",
       "\n",
       "        [[0.00784314, 0.00784314, 0.00784314],\n",
       "         [0.00784314, 0.00784314, 0.00784314],\n",
       "         [0.01568627, 0.01568627, 0.01568627],\n",
       "         ...,\n",
       "         [0.00392157, 0.00392157, 0.00392157],\n",
       "         [0.00392157, 0.00392157, 0.00392157],\n",
       "         [0.00392157, 0.00392157, 0.00392157]]],\n",
       "\n",
       "\n",
       "       ...,\n",
       "\n",
       "\n",
       "       [[[0.00392157, 0.00392157, 0.00392157],\n",
       "         [0.00392157, 0.00392157, 0.00392157],\n",
       "         [0.00392157, 0.00392157, 0.00392157],\n",
       "         ...,\n",
       "         [0.        , 0.        , 0.        ],\n",
       "         [0.        , 0.        , 0.        ],\n",
       "         [0.        , 0.        , 0.00392157]],\n",
       "\n",
       "        [[0.00392157, 0.00392157, 0.00392157],\n",
       "         [0.00392157, 0.00392157, 0.00392157],\n",
       "         [0.00392157, 0.00392157, 0.00392157],\n",
       "         ...,\n",
       "         [0.03137255, 0.03137255, 0.03137255],\n",
       "         [0.        , 0.        , 0.        ],\n",
       "         [0.        , 0.        , 0.00392157]],\n",
       "\n",
       "        [[0.00392157, 0.00392157, 0.00392157],\n",
       "         [0.00392157, 0.00392157, 0.00392157],\n",
       "         [0.        , 0.        , 0.        ],\n",
       "         ...,\n",
       "         [0.05098039, 0.05098039, 0.05098039],\n",
       "         [0.01960784, 0.01960784, 0.01960784],\n",
       "         [0.        , 0.        , 0.00392157]],\n",
       "\n",
       "        ...,\n",
       "\n",
       "        [[0.12156863, 0.12156863, 0.12156863],\n",
       "         [0.20392157, 0.20392157, 0.20392157],\n",
       "         [0.32941176, 0.32941176, 0.32941176],\n",
       "         ...,\n",
       "         [0.74117647, 0.74117647, 0.74117647],\n",
       "         [0.70196078, 0.70196078, 0.70196078],\n",
       "         [0.61568627, 0.61176471, 0.61960784]],\n",
       "\n",
       "        [[0.1254902 , 0.1254902 , 0.1254902 ],\n",
       "         [0.19215686, 0.19215686, 0.19215686],\n",
       "         [0.31764706, 0.31764706, 0.31764706],\n",
       "         ...,\n",
       "         [0.74509804, 0.74509804, 0.74509804],\n",
       "         [0.72941176, 0.72941176, 0.72941176],\n",
       "         [0.61960784, 0.61568627, 0.61960784]],\n",
       "\n",
       "        [[0.12156863, 0.12156863, 0.12156863],\n",
       "         [0.18039216, 0.18039216, 0.18039216],\n",
       "         [0.31764706, 0.31764706, 0.31764706],\n",
       "         ...,\n",
       "         [0.75294118, 0.75294118, 0.75294118],\n",
       "         [0.74117647, 0.74117647, 0.74117647],\n",
       "         [0.64313725, 0.63921569, 0.65098039]]],\n",
       "\n",
       "\n",
       "       [[[0.        , 0.        , 0.        ],\n",
       "         [0.        , 0.        , 0.        ],\n",
       "         [0.        , 0.        , 0.        ],\n",
       "         ...,\n",
       "         [0.        , 0.        , 0.        ],\n",
       "         [0.        , 0.        , 0.        ],\n",
       "         [0.        , 0.        , 0.        ]],\n",
       "\n",
       "        [[0.00392157, 0.00392157, 0.00392157],\n",
       "         [0.        , 0.        , 0.        ],\n",
       "         [0.        , 0.        , 0.        ],\n",
       "         ...,\n",
       "         [0.        , 0.        , 0.        ],\n",
       "         [0.        , 0.        , 0.        ],\n",
       "         [0.        , 0.        , 0.        ]],\n",
       "\n",
       "        [[0.        , 0.        , 0.        ],\n",
       "         [0.        , 0.        , 0.        ],\n",
       "         [0.        , 0.        , 0.        ],\n",
       "         ...,\n",
       "         [0.        , 0.        , 0.        ],\n",
       "         [0.00392157, 0.00392157, 0.00392157],\n",
       "         [0.00392157, 0.00392157, 0.00392157]],\n",
       "\n",
       "        ...,\n",
       "\n",
       "        [[0.30588235, 0.30588235, 0.30588235],\n",
       "         [0.35294118, 0.35294118, 0.35294118],\n",
       "         [0.40784314, 0.40784314, 0.40784314],\n",
       "         ...,\n",
       "         [0.65098039, 0.65098039, 0.65098039],\n",
       "         [0.6       , 0.6       , 0.6       ],\n",
       "         [0.54901961, 0.54901961, 0.54901961]],\n",
       "\n",
       "        [[0.30588235, 0.30588235, 0.30588235],\n",
       "         [0.34509804, 0.34509804, 0.34509804],\n",
       "         [0.41176471, 0.41176471, 0.41176471],\n",
       "         ...,\n",
       "         [0.63921569, 0.63921569, 0.63921569],\n",
       "         [0.58823529, 0.58823529, 0.58823529],\n",
       "         [0.52941176, 0.52941176, 0.52941176]],\n",
       "\n",
       "        [[0.30196078, 0.30196078, 0.30196078],\n",
       "         [0.34509804, 0.34509804, 0.34509804],\n",
       "         [0.40392157, 0.40392157, 0.40392157],\n",
       "         ...,\n",
       "         [0.61176471, 0.61176471, 0.61176471],\n",
       "         [0.57254902, 0.57254902, 0.57254902],\n",
       "         [0.50196078, 0.50196078, 0.50196078]]],\n",
       "\n",
       "\n",
       "       [[[0.18039216, 0.18039216, 0.18039216],\n",
       "         [0.21960784, 0.21960784, 0.21960784],\n",
       "         [0.20392157, 0.20392157, 0.20392157],\n",
       "         ...,\n",
       "         [0.        , 0.        , 0.        ],\n",
       "         [0.        , 0.        , 0.        ],\n",
       "         [0.        , 0.        , 0.        ]],\n",
       "\n",
       "        [[0.16862745, 0.16862745, 0.16862745],\n",
       "         [0.21176471, 0.21176471, 0.21176471],\n",
       "         [0.19607843, 0.19607843, 0.19607843],\n",
       "         ...,\n",
       "         [0.        , 0.        , 0.        ],\n",
       "         [0.        , 0.        , 0.        ],\n",
       "         [0.        , 0.        , 0.        ]],\n",
       "\n",
       "        [[0.16862745, 0.16862745, 0.16862745],\n",
       "         [0.2       , 0.2       , 0.2       ],\n",
       "         [0.21568627, 0.21568627, 0.21568627],\n",
       "         ...,\n",
       "         [0.        , 0.        , 0.        ],\n",
       "         [0.        , 0.        , 0.        ],\n",
       "         [0.        , 0.        , 0.        ]],\n",
       "\n",
       "        ...,\n",
       "\n",
       "        [[0.        , 0.        , 0.        ],\n",
       "         [0.        , 0.        , 0.        ],\n",
       "         [0.        , 0.        , 0.        ],\n",
       "         ...,\n",
       "         [0.        , 0.        , 0.        ],\n",
       "         [0.        , 0.        , 0.        ],\n",
       "         [0.        , 0.        , 0.        ]],\n",
       "\n",
       "        [[0.        , 0.        , 0.        ],\n",
       "         [0.        , 0.        , 0.        ],\n",
       "         [0.        , 0.        , 0.        ],\n",
       "         ...,\n",
       "         [0.        , 0.        , 0.        ],\n",
       "         [0.        , 0.        , 0.        ],\n",
       "         [0.        , 0.        , 0.        ]],\n",
       "\n",
       "        [[0.        , 0.        , 0.        ],\n",
       "         [0.        , 0.        , 0.        ],\n",
       "         [0.        , 0.        , 0.        ],\n",
       "         ...,\n",
       "         [0.        , 0.        , 0.        ],\n",
       "         [0.        , 0.        , 0.        ],\n",
       "         [0.        , 0.        , 0.        ]]]])"
      ]
     },
     "execution_count": 19,
     "metadata": {},
     "output_type": "execute_result"
    }
   ],
   "source": [
    "x_test"
   ]
  },
  {
   "cell_type": "code",
   "execution_count": 20,
   "metadata": {},
   "outputs": [],
   "source": [
    "from keras.models import *\n",
    "from keras.layers import *\n",
    "import tensorflow as tf\n",
    "from tensorflow import keras\n",
    "from keras.utils import to_categorical"
   ]
  },
  {
   "cell_type": "code",
   "execution_count": 21,
   "metadata": {},
   "outputs": [],
   "source": [
    "y_train = to_categorical(y_train, 2)\n",
    "y_test = to_categorical(y_test, 2)"
   ]
  },
  {
   "cell_type": "code",
   "execution_count": 24,
   "metadata": {},
   "outputs": [],
   "source": [
    "model = Sequential()\n",
    "\n",
    "model.add(Conv2D(64, (3,3), activation = 'tanh',input_shape=x_train.shape[1:]))\n",
    "model.add(MaxPooling2D((2,2)))\n",
    "\n",
    "model.add(Conv2D(64, (3,3), activation = 'tanh'))\n",
    "model.add(MaxPooling2D((2,2)))\n",
    "\n",
    "model.add(Flatten())\n",
    "\n",
    "model.add(Dense(128, activation = 'tanh'))\n",
    "\n",
    "model.add(Dense(2, activation = 'softmax'))"
   ]
  },
  {
   "cell_type": "code",
   "execution_count": 25,
   "metadata": {},
   "outputs": [
    {
     "name": "stdout",
     "output_type": "stream",
     "text": [
      "Model: \"sequential_1\"\n",
      "_________________________________________________________________\n",
      "Layer (type)                 Output Shape              Param #   \n",
      "=================================================================\n",
      "conv2d_2 (Conv2D)            (None, 98, 98, 64)        1792      \n",
      "_________________________________________________________________\n",
      "max_pooling2d_2 (MaxPooling2 (None, 49, 49, 64)        0         \n",
      "_________________________________________________________________\n",
      "conv2d_3 (Conv2D)            (None, 47, 47, 64)        36928     \n",
      "_________________________________________________________________\n",
      "max_pooling2d_3 (MaxPooling2 (None, 23, 23, 64)        0         \n",
      "_________________________________________________________________\n",
      "flatten_1 (Flatten)          (None, 33856)             0         \n",
      "_________________________________________________________________\n",
      "dense_2 (Dense)              (None, 128)               4333696   \n",
      "_________________________________________________________________\n",
      "dense_3 (Dense)              (None, 2)                 258       \n",
      "=================================================================\n",
      "Total params: 4,372,674\n",
      "Trainable params: 4,372,674\n",
      "Non-trainable params: 0\n",
      "_________________________________________________________________\n"
     ]
    }
   ],
   "source": [
    "model.summary()"
   ]
  },
  {
   "cell_type": "code",
   "execution_count": null,
   "metadata": {},
   "outputs": [],
   "source": []
  },
  {
   "cell_type": "code",
   "execution_count": 28,
   "metadata": {},
   "outputs": [],
   "source": [
    "class_names=['covid-19','normal']"
   ]
  },
  {
   "cell_type": "code",
   "execution_count": 29,
   "metadata": {},
   "outputs": [],
   "source": [
    "model.compile(loss='categorical_crossentropy', optimizer='adam', metrics=['accuracy'])"
   ]
  },
  {
   "cell_type": "code",
   "execution_count": 30,
   "metadata": {},
   "outputs": [
    {
     "name": "stdout",
     "output_type": "stream",
     "text": [
      "Epoch 1/12\n",
      "5/5 [==============================] - 49s 10s/step - loss: 3.3282 - accuracy: 0.5750 - val_loss: 0.1225 - val_accuracy: 0.9250\n",
      "Epoch 2/12\n",
      "5/5 [==============================] - 42s 8s/step - loss: 0.3367 - accuracy: 0.8813 - val_loss: 0.4832 - val_accuracy: 0.7500\n",
      "Epoch 3/12\n",
      "5/5 [==============================] - 42s 8s/step - loss: 0.3650 - accuracy: 0.8375 - val_loss: 0.4896 - val_accuracy: 0.7000\n",
      "Epoch 4/12\n",
      "5/5 [==============================] - 49s 10s/step - loss: 0.3319 - accuracy: 0.8813 - val_loss: 0.1376 - val_accuracy: 0.9750\n",
      "Epoch 5/12\n",
      "5/5 [==============================] - 43s 9s/step - loss: 0.2610 - accuracy: 0.9062 - val_loss: 0.1572 - val_accuracy: 0.9750\n",
      "Epoch 6/12\n",
      "5/5 [==============================] - 45s 9s/step - loss: 0.1962 - accuracy: 0.9500 - val_loss: 0.2306 - val_accuracy: 0.9250\n",
      "Epoch 7/12\n",
      "5/5 [==============================] - 52s 10s/step - loss: 0.1968 - accuracy: 0.9375 - val_loss: 0.1255 - val_accuracy: 0.9500\n",
      "Epoch 8/12\n",
      "5/5 [==============================] - 53s 11s/step - loss: 0.1822 - accuracy: 0.9312 - val_loss: 0.1193 - val_accuracy: 0.9500\n",
      "Epoch 9/12\n",
      "5/5 [==============================] - 54s 11s/step - loss: 0.1595 - accuracy: 0.9563 - val_loss: 0.1580 - val_accuracy: 0.9250\n",
      "Epoch 10/12\n",
      "5/5 [==============================] - 52s 10s/step - loss: 0.1492 - accuracy: 0.9563 - val_loss: 0.0963 - val_accuracy: 0.9750\n",
      "Epoch 11/12\n",
      "5/5 [==============================] - 74s 15s/step - loss: 0.1397 - accuracy: 0.9500 - val_loss: 0.0932 - val_accuracy: 0.9750\n",
      "Epoch 12/12\n",
      "5/5 [==============================] - 55s 11s/step - loss: 0.1227 - accuracy: 0.9625 - val_loss: 0.1099 - val_accuracy: 0.9500\n"
     ]
    }
   ],
   "source": [
    "history=model.fit(x_train, y_train, epochs=12,validation_data=(x_test, y_test))"
   ]
  },
  {
   "cell_type": "code",
   "execution_count": 31,
   "metadata": {},
   "outputs": [
    {
     "data": {
      "image/png": "[encoded data removed]",
      "text/plain": [
       "<Figure size 432x288 with 1 Axes>"
      ]
     },
     "metadata": {
      "needs_background": "light"
     },
     "output_type": "display_data"
    },
    {
     "data": {
      "text/plain": [
       "<matplotlib.legend.Legend at 0x719b36d610>"
      ]
     },
     "execution_count": 31,
     "metadata": {},
     "output_type": "execute_result"
    },
    {
     "data": {
      "image/png": "[encoded data removed]",
      "text/plain": [
       "<Figure size 432x288 with 1 Axes>"
      ]
     },
     "metadata": {
      "needs_background": "light"
     },
     "output_type": "display_data"
    }
   ],
   "source": [
    "plt.plot(history.history['accuracy'])\n",
    "plt.plot(history.history['val_accuracy'])\n",
    "plt.title('model accuracy')\n",
    "plt.ylabel('accuracy')\n",
    "plt.xlabel('epoch')\n",
    "plt.legend(['Train', 'Validation'], loc='upper left')\n",
    "plt.show()\n",
    "# summarize history for loss\n",
    "plt.plot(history.history['loss'])\n",
    "plt.plot(history.history['val_loss'])\n",
    "plt.title('model loss')\n",
    "plt.ylabel('loss')\n",
    "plt.xlabel('epoch')\n",
    "plt.legend(['Train', 'Validation'], loc='upper left')"
   ]
  },
  {
   "cell_type": "code",
   "execution_count": 32,
   "metadata": {},
   "outputs": [],
   "source": [
    "from sklearn.metrics import accuracy_score\n",
    "from sklearn.metrics import confusion_matrix\n",
    "from sklearn.metrics import precision_score\n",
    "from sklearn.metrics import recall_score\n",
    "\n",
    "from sklearn.metrics import classification_report\n",
    "from sklearn.metrics import f1_score\n"
   ]
  },
  {
   "cell_type": "code",
   "execution_count": 33,
   "metadata": {},
   "outputs": [
    {
     "data": {
      "text/plain": [
       "array([[0.9790041 , 0.02099591],\n",
       "       [0.04771683, 0.95228314],\n",
       "       [0.9389238 , 0.06107618],\n",
       "       [0.998973  , 0.00102696],\n",
       "       [0.9819516 , 0.0180484 ]], dtype=float32)"
      ]
     },
     "execution_count": 33,
     "metadata": {},
     "output_type": "execute_result"
    }
   ],
   "source": [
    "y_pred = model.predict(x_test)\n",
    "y_pred[:5]"
   ]
  },
  {
   "cell_type": "code",
   "execution_count": 34,
   "metadata": {},
   "outputs": [],
   "source": [
    "y_test_args=np.argmax(y_test,axis=1)\n",
    "\n",
    "\n",
    "y_pred_args = np.argmax(y_pred,axis=1)"
   ]
  },
  {
   "cell_type": "code",
   "execution_count": 35,
   "metadata": {},
   "outputs": [
    {
     "data": {
      "text/plain": [
       "(<Figure size 432x288 with 1 Axes>,\n",
       " <matplotlib.axes._subplots.AxesSubplot at 0x719b3746d0>)"
      ]
     },
     "execution_count": 35,
     "metadata": {},
     "output_type": "execute_result"
    },
    {
     "data": {
      "image/png": "[encoded data removed]",
      "text/plain": [
       "<Figure size 432x288 with 1 Axes>"
      ]
     },
     "metadata": {
      "needs_background": "light"
     },
     "output_type": "display_data"
    }
   ],
   "source": [
    "from mlxtend.plotting import plot_confusion_matrix\n",
    "from sklearn.metrics import confusion_matrix\n",
    "\n",
    "\n",
    "\n",
    "cm=confusion_matrix(y_test_args,y_pred_args)\n",
    "plot_confusion_matrix(cm,class_names=class_names)"
   ]
  },
  {
   "cell_type": "code",
   "execution_count": 37,
   "metadata": {},
   "outputs": [
    {
     "ename": "TypeError",
     "evalue": "only integer scalar arrays can be converted to a scalar index",
     "output_type": "error",
     "traceback": [
      "\u001b[1;31m---------------------------------------------------------------------------\u001b[0m",
      "\u001b[1;31mTypeError\u001b[0m                                 Traceback (most recent call last)",
      "\u001b[1;32m<ipython-input-37-b18f09c85702>\u001b[0m in \u001b[0;36m<module>\u001b[1;34m\u001b[0m\n\u001b[1;32m----> 1\u001b[1;33m \u001b[0mplot_sample\u001b[0m\u001b[1;33m(\u001b[0m\u001b[0mx_test\u001b[0m\u001b[1;33m,\u001b[0m \u001b[0my_test\u001b[0m\u001b[1;33m,\u001b[0m \u001b[1;36m5\u001b[0m\u001b[1;33m)\u001b[0m\u001b[1;33m\u001b[0m\u001b[1;33m\u001b[0m\u001b[0m\n\u001b[0m",
      "\u001b[1;32m<ipython-input-15-c84bb6772590>\u001b[0m in \u001b[0;36mplot_sample\u001b[1;34m(x, y, index)\u001b[0m\n\u001b[0;32m      2\u001b[0m     \u001b[0mplt\u001b[0m\u001b[1;33m.\u001b[0m\u001b[0mfigure\u001b[0m\u001b[1;33m(\u001b[0m\u001b[0mfigsize\u001b[0m \u001b[1;33m=\u001b[0m \u001b[1;33m(\u001b[0m\u001b[1;36m15\u001b[0m\u001b[1;33m,\u001b[0m\u001b[1;36m2\u001b[0m\u001b[1;33m)\u001b[0m\u001b[1;33m)\u001b[0m\u001b[1;33m\u001b[0m\u001b[1;33m\u001b[0m\u001b[0m\n\u001b[0;32m      3\u001b[0m     \u001b[0mplt\u001b[0m\u001b[1;33m.\u001b[0m\u001b[0mimshow\u001b[0m\u001b[1;33m(\u001b[0m\u001b[0mx\u001b[0m\u001b[1;33m[\u001b[0m\u001b[0mindex\u001b[0m\u001b[1;33m]\u001b[0m\u001b[1;33m)\u001b[0m\u001b[1;33m\u001b[0m\u001b[1;33m\u001b[0m\u001b[0m\n\u001b[1;32m----> 4\u001b[1;33m     \u001b[0mplt\u001b[0m\u001b[1;33m.\u001b[0m\u001b[0mxlabel\u001b[0m\u001b[1;33m(\u001b[0m\u001b[0mcatagories\u001b[0m\u001b[1;33m[\u001b[0m\u001b[0my\u001b[0m\u001b[1;33m[\u001b[0m\u001b[0mindex\u001b[0m\u001b[1;33m]\u001b[0m\u001b[1;33m]\u001b[0m\u001b[1;33m)\u001b[0m\u001b[1;33m\u001b[0m\u001b[1;33m\u001b[0m\u001b[0m\n\u001b[0m",
      "\u001b[1;31mTypeError\u001b[0m: only integer scalar arrays can be converted to a scalar index"
     ]
    },
    {
     "data": {
      "image/png": "[encoded data removed]",
      "text/plain": [
       "<Figure size 1080x144 with 1 Axes>"
      ]
     },
     "metadata": {
      "needs_background": "light"
     },
     "output_type": "display_data"
    }
   ],
   "source": [
    "plot_sample(x_test, y_test, 5)"
   ]
  },
  {
   "cell_type": "code",
   "execution_count": null,
   "metadata": {},
   "outputs": [],
   "source": [
    "accuracy_cnn=accuracy_score(y_test_args, y_pred_args)\n",
    "precision_cnn=precision_score(y_test_args,y_pred_args,average=\"micro\")\n",
    "recall_cnn=recall_score(y_test_args,y_pred_args,average=\"micro\")\n",
    "classification_cnn=classification_report(y_test_args,y_pred_args,target_names=class_names)\n",
    "f1score_cnn=f1_score(y_test_args,y_pred_args,average=\"micro\")\n",
    "print(\"accuracy score:\", accuracy_cnn)\n",
    "print(\"precision:\", precision_cnn)\n",
    "print(\"recall:\", recall_cnn)\n",
    "print(\"f1 score:\",f1score_cnn)\n",
    "print(\"classification report:\")\n",
    "print(classification_cnn)"
   ]
  },
  {
   "cell_type": "code",
   "execution_count": null,
   "metadata": {},
   "outputs": [],
   "source": []
  }
 ],
 "metadata": {
  "kernelspec": {
   "display_name": "Python 3",
   "language": "python",
   "name": "python3"
  },
  "language_info": {
   "codemirror_mode": {
    "name": "ipython",
    "version": 3
   },
   "file_extension": ".py",
   "mimetype": "text/x-python",
   "name": "python",
   "nbconvert_exporter": "python",
   "pygments_lexer": "ipython3",
   "version": "3.8.3"
  }
 },
 "nbformat": 4,
 "nbformat_minor": 4
}
